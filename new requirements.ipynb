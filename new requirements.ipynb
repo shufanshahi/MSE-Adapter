{
  "cells": [
    {
      "cell_type": "code",
      "execution_count": null,
      "metadata": {
        "id": "cdha1eQuUuHd"
      },
      "outputs": [],
      "source": [
        "!git clone https://github.com/AZYoung233/MSE-Adapter.git"
      ]
    },
    {
      "cell_type": "code",
      "execution_count": null,
      "metadata": {
        "id": "o88r-pZFoR2M"
      },
      "outputs": [],
      "source": [
        "# Cell 1 — quick diagnostics\n",
        "!nvidia-smi || true\n"
      ]
    },
    {
      "cell_type": "code",
      "execution_count": null,
      "metadata": {
        "id": "0MetTkoPjWTi"
      },
      "outputs": [],
      "source": [
        "!pip install modelscope"
      ]
    },
    {
      "cell_type": "code",
      "execution_count": null,
      "metadata": {
        "id": "ekWmvjYYoTz8"
      },
      "outputs": [],
      "source": [
        "# Cell 2 — uninstall conflicting preinstalled torch artifacts so we can reinstall cleanly\n",
        "!pip uninstall -y torch torchvision torchaudio xformers || true\n"
      ]
    },
    {
      "cell_type": "code",
      "source": [
        "# Cell 4 — install torch / torchvision / torchaudio from official PyTorch index\n",
        "!pip install --upgrade pip\n",
        "# Try CUDA 12.1 wheel index first (change cu121 -> cu118 if your runtime requires it)\n",
        "!pip install --index-url https://download.pytorch.org/whl/cu121 torch torchvision torchaudio --no-warn-script-location\n"
      ],
      "metadata": {
        "id": "p5xm1TqiNje3"
      },
      "execution_count": null,
      "outputs": []
    },
    {
      "cell_type": "code",
      "source": [
        "# run requirements.txt"
      ],
      "metadata": {
        "id": "ZXRWoTcEURSe"
      },
      "execution_count": null,
      "outputs": []
    },
    {
      "cell_type": "code",
      "execution_count": null,
      "metadata": {
        "id": "QKWAQuQ2qKjj"
      },
      "outputs": [],
      "source": [
        "# Cell 7 — install xformers; pip should pick a build compatible with installed torch\n",
        "!pip install xformers || (pip install xformers==0.0.27.post2 || pip install xformers==0.0.26)\n"
      ]
    },
    {
      "cell_type": "code",
      "execution_count": null,
      "metadata": {
        "id": "ZFbwVGKEToDN"
      },
      "outputs": [],
      "source": [
        "!git lfs install"
      ]
    },
    {
      "cell_type": "code",
      "source": [
        "!git clone https://huggingface.co/datasets/AZYoung/MELD_processed"
      ],
      "metadata": {
        "id": "9vCSvZXrM7HW"
      },
      "execution_count": null,
      "outputs": []
    },
    {
      "cell_type": "code",
      "execution_count": null,
      "metadata": {
        "id": "auxvF0F5XnsB"
      },
      "outputs": [],
      "source": [
        "!git clone https://huggingface.co/datasets/AZYoung/SIMSV2_processed"
      ]
    },
    {
      "cell_type": "code",
      "execution_count": null,
      "metadata": {
        "id": "kPw90I47Xl3c"
      },
      "outputs": [],
      "source": [
        "# !git clone https://huggingface.co/datasets/AZYoung/MOSEI_processed"
      ]
    },
    {
      "cell_type": "code",
      "execution_count": null,
      "metadata": {
        "id": "9yu2MLZ-XPH0"
      },
      "outputs": [],
      "source": [
        "from huggingface_hub import snapshot_download\n",
        "\n",
        "snapshot_download(repo_id=\"Qwen/Qwen-1_8B\", local_dir=\"Qwen-1_8B\")"
      ]
    },
    {
      "cell_type": "code",
      "source": [
        "!pip install transformers_stream_generator"
      ],
      "metadata": {
        "id": "ZnvpZKZEUMYP"
      },
      "execution_count": null,
      "outputs": []
    },
    {
      "cell_type": "code",
      "source": [],
      "metadata": {
        "id": "UlaflqyPfhE_"
      },
      "execution_count": null,
      "outputs": []
    },
    {
      "cell_type": "code",
      "source": [],
      "metadata": {
        "id": "F9ihpIdO7GK4"
      },
      "execution_count": null,
      "outputs": []
    }
  ],
  "metadata": {
    "colab": {
      "provenance": [],
      "gpuType": "T4"
    },
    "kernelspec": {
      "display_name": "Python 3",
      "name": "python3"
    },
    "language_info": {
      "name": "python"
    },
    "accelerator": "GPU"
  },
  "nbformat": 4,
  "nbformat_minor": 0
}